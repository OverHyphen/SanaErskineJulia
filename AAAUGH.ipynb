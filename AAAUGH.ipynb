{
 "cells": [
  {
   "cell_type": "code",
   "execution_count": 1,
   "id": "17db4ef6",
   "metadata": {},
   "outputs": [],
   "source": [
    "using Plots"
   ]
  },
  {
   "cell_type": "code",
   "execution_count": 3,
   "id": "f588f5a1",
   "metadata": {},
   "outputs": [],
   "source": [
    "using DataFrames"
   ]
  },
  {
   "cell_type": "code",
   "execution_count": null,
   "id": "1197779d",
   "metadata": {},
   "outputs": [],
   "source": [
    "X = [\"Edison State College\", \"Fl A&M Uni\", \"Fl Atlantic Uni\", \"Fl Gulf Coast Uni\", \"Fl International Uni\",\"Fl State Uni\",\"New College of Fl\",\"Pensacola State College\",\"Santa Fe College\", \"Tallahasee Community College\", \"Uni of Central Fl\", \"Uni of Florida\", \"Uni of N Fl\", \"Uni of S Fl\", \"Uni of W fl\"];\n",
    "Y = [11, 11, 15, 13, 12, 13, 10], Whole=[17107, 13204, 25246, 12851, 44616, 41067, 845, 11531, 15493, 15090, 58465, 49589, 16198, 4310, 11982], Integers=[4, 14, 4, 3, 9, 31, 1, 3, 1, 2, 26, 18, 2, 2, 2])];\n",
    "\n",
    "P = bar(X,Y)"
   ]
  },
  {
   "cell_type": "code",
   "execution_count": 16,
   "id": "782edb17",
   "metadata": {},
   "outputs": [
    {
     "data": {
      "text/html": [
       "<div class=\"data-frame\"><p>15 rows × 3 columns</p><table class=\"data-frame\"><thead><tr><th></th><th>Names</th><th>Whole</th><th>Integers</th></tr><tr><th></th><th title=\"String\">String</th><th title=\"Int64\">Int64</th><th title=\"Int64\">Int64</th></tr></thead><tbody><tr><th>1</th><td>Edison State College</td><td>17107</td><td>4</td></tr><tr><th>2</th><td>Fl A&amp;M Uni</td><td>13204</td><td>14</td></tr><tr><th>3</th><td>Fl Atlantic Uni</td><td>25246</td><td>4</td></tr><tr><th>4</th><td>Fl Gulf Coast Uni</td><td>12851</td><td>3</td></tr><tr><th>5</th><td>Fl International Uni</td><td>44616</td><td>9</td></tr><tr><th>6</th><td>Fl State Uni</td><td>41067</td><td>31</td></tr><tr><th>7</th><td>New College of Fl</td><td>845</td><td>1</td></tr><tr><th>8</th><td>Pensacola State College</td><td>11531</td><td>3</td></tr><tr><th>9</th><td>Santa Fe College</td><td>15493</td><td>1</td></tr><tr><th>10</th><td>Tallahasee Community College</td><td>15090</td><td>2</td></tr><tr><th>11</th><td>Uni of Central Fl</td><td>58465</td><td>26</td></tr><tr><th>12</th><td>Uni of Florida</td><td>49589</td><td>18</td></tr><tr><th>13</th><td>Uni of N Fl</td><td>16198</td><td>2</td></tr><tr><th>14</th><td>Uni of S Fl</td><td>4310</td><td>2</td></tr><tr><th>15</th><td>Uni of W fl</td><td>11982</td><td>2</td></tr></tbody></table></div>"
      ],
      "text/latex": [
       "\\begin{tabular}{r|ccc}\n",
       "\t& Names & Whole & Integers\\\\\n",
       "\t\\hline\n",
       "\t& String & Int64 & Int64\\\\\n",
       "\t\\hline\n",
       "\t1 & Edison State College & 17107 & 4 \\\\\n",
       "\t2 & Fl A\\&M Uni & 13204 & 14 \\\\\n",
       "\t3 & Fl Atlantic Uni & 25246 & 4 \\\\\n",
       "\t4 & Fl Gulf Coast Uni & 12851 & 3 \\\\\n",
       "\t5 & Fl International Uni & 44616 & 9 \\\\\n",
       "\t6 & Fl State Uni & 41067 & 31 \\\\\n",
       "\t7 & New College of Fl & 845 & 1 \\\\\n",
       "\t8 & Pensacola State College & 11531 & 3 \\\\\n",
       "\t9 & Santa Fe College & 15493 & 1 \\\\\n",
       "\t10 & Tallahasee Community College & 15090 & 2 \\\\\n",
       "\t11 & Uni of Central Fl & 58465 & 26 \\\\\n",
       "\t12 & Uni of Florida & 49589 & 18 \\\\\n",
       "\t13 & Uni of N Fl & 16198 & 2 \\\\\n",
       "\t14 & Uni of S Fl & 4310 & 2 \\\\\n",
       "\t15 & Uni of W fl & 11982 & 2 \\\\\n",
       "\\end{tabular}\n"
      ],
      "text/plain": [
       "\u001b[1m15×3 DataFrame\u001b[0m\n",
       "\u001b[1m Row \u001b[0m│\u001b[1m Names                        \u001b[0m\u001b[1m Whole \u001b[0m\u001b[1m Integers \u001b[0m\n",
       "\u001b[1m     \u001b[0m│\u001b[90m String                       \u001b[0m\u001b[90m Int64 \u001b[0m\u001b[90m Int64    \u001b[0m\n",
       "─────┼───────────────────────────────────────────────\n",
       "   1 │ Edison State College          17107         4\n",
       "   2 │ Fl A&M Uni                    13204        14\n",
       "   3 │ Fl Atlantic Uni               25246         4\n",
       "   4 │ Fl Gulf Coast Uni             12851         3\n",
       "   5 │ Fl International Uni          44616         9\n",
       "   6 │ Fl State Uni                  41067        31\n",
       "   7 │ New College of Fl               845         1\n",
       "   8 │ Pensacola State College       11531         3\n",
       "   9 │ Santa Fe College              15493         1\n",
       "  10 │ Tallahasee Community College  15090         2\n",
       "  11 │ Uni of Central Fl             58465        26\n",
       "  12 │ Uni of Florida                49589        18\n",
       "  13 │ Uni of N Fl                   16198         2\n",
       "  14 │ Uni of S Fl                    4310         2\n",
       "  15 │ Uni of W fl                   11982         2"
      ]
     },
     "execution_count": 16,
     "metadata": {},
     "output_type": "execute_result"
    }
   ],
   "source": [
    "df = DataFrame(Names=[\"Edison State College\", \"Fl A&M Uni\", \"Fl Atlantic Uni\", \"Fl Gulf Coast Uni\", \"Fl International Uni\",\"Fl State Uni\",\"New College of Fl\",\"Pensacola State College\",\"Santa Fe College\", \"Tallahasee Community College\", \"Uni of Central Fl\", \"Uni of Florida\", \"Uni of N Fl\", \"Uni of S Fl\", \"Uni of W fl\"], Whole=[17107, 13204, 25246, 12851, 44616, 41067, 845, 11531, 15493, 15090, 58465, 49589, 16198, 4310, 11982], Integers=[4, 14, 4, 3, 9, 31, 1, 3, 1, 2, 26, 18, 2, 2, 2])"
   ]
  },
  {
   "cell_type": "code",
   "execution_count": null,
   "id": "055441c5",
   "metadata": {},
   "outputs": [],
   "source": []
  }
 ],
 "metadata": {
  "kernelspec": {
   "display_name": "Julia 1.7.3",
   "language": "julia",
   "name": "julia-1.7"
  },
  "language_info": {
   "file_extension": ".jl",
   "mimetype": "application/julia",
   "name": "julia",
   "version": "1.7.3"
  }
 },
 "nbformat": 4,
 "nbformat_minor": 5
}
